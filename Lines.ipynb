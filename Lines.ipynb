{
 "cells": [
  {
   "cell_type": "markdown",
   "id": "35267c72",
   "metadata": {},
   "source": [
    "# Draw"
   ]
  },
  {
   "cell_type": "markdown",
   "id": "48d41218",
   "metadata": {},
   "source": [
    "## Boilerplate"
   ]
  },
  {
   "cell_type": "code",
   "execution_count": null,
   "id": "df303f45",
   "metadata": {},
   "outputs": [],
   "source": [
    "import numpy  as np\n",
    "from copy import copy\n",
    "\n",
    "import random\n",
    "import math\n",
    "import itertools\n",
    "from more_itertools import pairwise\n",
    "\n",
    "from random import random, shuffle, uniform, randint\n",
    "from io import BytesIO\n",
    "\n",
    "import cairo\n",
    "import IPython.display\n",
    "import PIL\n",
    "import PIL.Image\n",
    "import PIL.ImageFilter"
   ]
  },
  {
   "cell_type": "code",
   "execution_count": null,
   "id": "9820b7e8",
   "metadata": {},
   "outputs": [],
   "source": [
    "XMAX = 100\n",
    "XMIN = -95\n",
    "\n",
    "YMAX = 185\n",
    "YMIN = -90\n",
    "\n",
    "XMID = (XMAX + XMIN) / 2.0\n",
    "YMID = (YMAX + YMIN) / 2.0\n",
    "\n",
    "PEN_DELAY = 125\n",
    "\n",
    "START_X = 0\n",
    "START_Y = -200"
   ]
  },
  {
   "cell_type": "code",
   "execution_count": null,
   "id": "cbbb402d",
   "metadata": {},
   "outputs": [],
   "source": [
    "def clamp(value, min_value, max_value):\n",
    "    return min(max(value, min_value), max_value)"
   ]
  },
  {
   "cell_type": "code",
   "execution_count": null,
   "id": "d6e0298e",
   "metadata": {},
   "outputs": [],
   "source": [
    "class GCODE:\n",
    "    def __init__(self, name=\"foobar\", feedrate=1000):\n",
    "        self.start_pos = np.array([START_X, START_Y])\n",
    "        self.pos = copy(self.start_pos)\n",
    "        self.f = open(f\"{name}.gcode\", \"wt\")\n",
    "        self.feedrate = feedrate\n",
    "        \n",
    "        self.servo = \"P0\"\n",
    "        self.pen_up_pos = \"S0\"\n",
    "        self.pen_down_pos = \"S90\"\n",
    "         \n",
    "        self.f.write(\"M17\\n\")  # Ensure steppers are enabled\n",
    "        self.f.write(\"M121\\n\")  # Disable endstops, just in case\n",
    "        self.f.write(\"G90\\n\")  # Set absolute positioning\n",
    "        self.f.write(\"; potatolangelo\\n\")\n",
    "        self.pen_up()\n",
    "        self.move_to_starting_position()\n",
    "        \n",
    "    def pen_up(self):\n",
    "        self.finish_moves()\n",
    "        self.f.write(f\"M280 {self.servo} {self.pen_up_pos} T{PEN_DELAY}\\n\")\n",
    "    \n",
    "    def pen_down(self):\n",
    "        self.finish_moves()\n",
    "        self.f.write(f\"M280 {self.servo} {self.pen_down_pos} T{PEN_DELAY}\\n\")\n",
    "        \n",
    "    def finish_moves(self):\n",
    "        self.f.write(\"M400\\n\")\n",
    "        \n",
    "    def move_to(self, x, y, feedrate=None):\n",
    "        feedrate = feedrate or self.feedrate\n",
    "        \n",
    "        x = clamp(x, XMIN, XMAX)\n",
    "        y = clamp(y, YMIN, YMAX)\n",
    "        \n",
    "        self.pos[0] = x\n",
    "        self.pos[1] = y\n",
    "        \n",
    "        self.f.write(f\"G0 X{x} Y{y} F{feedrate}\\n\")\n",
    "        \n",
    "    def move_to_mid_point(self, feedrate=None):\n",
    "        self.move_to(XMID, YMID, feedrate=feedrate)\n",
    "        \n",
    "    def move_to_starting_position(self, feedrate=None):\n",
    "        self.move_to(self.start_pos[0], self.start_pos[1], feedrate=feedrate)\n",
    "        \n",
    "    def step(self, dx, dy, feedrate=None):\n",
    "        feedrate = feedrate or self.feedrate\n",
    "        self.pos[0] += dx\n",
    "        self.pos[1] += dy\n",
    "        \n",
    "        x = self.pos[0]\n",
    "        y = self.pos[1]\n",
    "        x = clamp(x, XMIN, XMAX)\n",
    "        y = clamp(y, YMIN, YMAX)\n",
    "        self.pos[0] = x\n",
    "        self.pos[1] = y\n",
    "        \n",
    "        self.f.write(f\"G0 X{x} Y{y} F{feedrate}\\n\")\n",
    "        \n",
    "    def square_filled(self, xmin, ymin, xmax, ymax, dy=1, zigzag=True):\n",
    "        print(f\"square filled centered on {(xmin + xmax) / 2.0:.2f} {(ymin + ymax) / 2.0:.2f}\")\n",
    "        \n",
    "        self.pen_up()    \n",
    "        self.move_to((xmin + xmax) / 2.0, (ymin + ymax) / 2.0)\n",
    "        \n",
    "        self.square(xmin, ymin, xmax, ymax)\n",
    "        \n",
    "        self.pen_up()    \n",
    "        self.move_to(xmin, ymin)\n",
    "        self.pen_down()\n",
    "        \n",
    "        x = xmin\n",
    "        y = ymin\n",
    "        while y < ymax:\n",
    "            y += dy\n",
    "            \n",
    "            # When zigzag is true the pen moves in a saw tooth pattern,\n",
    "            # otherwise it goes in a square wave form.\n",
    "            # Zigzag looks good with ballpoint pens, while the square pattern\n",
    "            # works best on thicker points.\n",
    "            if not zigzag:\n",
    "                self.move_to(x, y)\n",
    "            \n",
    "            if x == xmin:\n",
    "                x = xmax\n",
    "            else:\n",
    "                x = xmin\n",
    "                \n",
    "            self.move_to(x, y)\n",
    "            \n",
    "        self.pen_up()\n",
    "                \n",
    "    def square(self, xmin, ymin, xmax, ymax):\n",
    "        self.move_to(xmin, ymin)\n",
    "        self.pen_down()\n",
    "        self.move_to(xmax, ymin)\n",
    "        self.move_to(xmax, ymax)\n",
    "        self.move_to(xmin, ymax)\n",
    "        self.move_to(xmin, ymin)\n",
    "        self.pen_up()\n",
    "            \n",
    "    def flush(self):\n",
    "        self.f.flush()"
   ]
  },
  {
   "cell_type": "markdown",
   "id": "1f3a904f",
   "metadata": {},
   "source": [
    "# The actual algo"
   ]
  },
  {
   "cell_type": "code",
   "execution_count": null,
   "id": "9c592842",
   "metadata": {},
   "outputs": [],
   "source": [
    "def plot(data, lines=True):\n",
    "    svgio = BytesIO()\n",
    "\n",
    "    with cairo.SVGSurface(svgio, width, height) as surface:\n",
    "        context = cairo.Context(surface)\n",
    "        context.scale(width, height)\n",
    "        context.set_line_width(0.001)\n",
    "        context.set_source_rgba(0, 0, 0, 1)\n",
    "        context.set_line_cap(cairo.LINE_CAP_ROUND)\n",
    "        \n",
    "        if not lines:\n",
    "            for x, y in data:\n",
    "                context.move_to(x / width, y / height)\n",
    "                context.line_to(x / width, y / height)\n",
    "                context.stroke()\n",
    "        else:\n",
    "            context.move_to(data[0][0] / width, data[0][1] / height)\n",
    "    \n",
    "            for x, y in data:\n",
    "                context.line_to(x / width, y / height)\n",
    "\n",
    "            context.stroke()\n",
    "\n",
    "    return IPython.display.SVG(data=svgio.getvalue())"
   ]
  },
  {
   "cell_type": "code",
   "execution_count": null,
   "id": "e841cd14",
   "metadata": {},
   "outputs": [],
   "source": [
    "image_name = \"images/david-bowie.jpg\"\n",
    "# image_name = \"squares.jpg\"\n",
    "# image_name = \"full-moon-with-face.png\"\n",
    "\n",
    "IPython.display.Image(filename=image_name) "
   ]
  },
  {
   "cell_type": "code",
   "execution_count": null,
   "id": "d46a6bd7",
   "metadata": {},
   "outputs": [],
   "source": [
    "original_image = PIL.Image.open(image_name)\n",
    "image = copy(original_image)\n",
    "\n",
    "width = original_image.width\n",
    "height = original_image.height\n",
    "\n",
    "image = image.resize((int(width / 1), int(height / 1)), PIL.Image.ANTIALIAS)\n",
    "\n",
    "# image = image.filter(PIL.ImageFilter.EDGE_ENHANCE_MORE)\n",
    "# image = image.filter(PIL.ImageFilter.SMOOTH_MORE)\n",
    "# image = image.filter(PIL.ImageFilter.SMOOTH_MORE)\n",
    "\n",
    "# image = image.filter(PIL.ImageFilter.CONTOUR)\n",
    "# image = image.filter(PIL.ImageFilter.CONTOUR)\n",
    "\n",
    "# image = image.filter(PIL.ImageFilter.DETAIL)\n",
    "\n",
    "# image = image.filter(PIL.ImageFilter.SMOOTH_MORE)\n",
    "# image = image.filter(PIL.ImageFilter.CONTOUR)\n",
    "\n",
    "# image = image.filter(PIL.ImageFilter.EDGE_ENHANCE)\n",
    "\n",
    "# image = image.filter(PIL.ImageFilter.EDGE_ENHANCE_MORE)\n",
    "IPython.display.display(image)"
   ]
  },
  {
   "cell_type": "code",
   "execution_count": null,
   "id": "c625d7d1",
   "metadata": {},
   "outputs": [],
   "source": [
    "image_pixels = image.convert(\"RGB\")"
   ]
  },
  {
   "cell_type": "code",
   "execution_count": null,
   "id": "5e25c628",
   "metadata": {},
   "outputs": [],
   "source": [
    "points = []\n",
    "\n",
    "width = image.width\n",
    "height = image.height\n",
    "\n",
    "for y in range(height):\n",
    "    for x in range(width):\n",
    "        r, g, b = image_pixels.getpixel((x, y))\n",
    "        intensity = ((255 - r) + (255 - g) + (255 - b)) / (255 * 3.0)\n",
    "        \n",
    "        if random() < intensity * 0.15:\n",
    "            points.append(np.array((x, y)))\n",
    "            \n",
    "len(points)"
   ]
  },
  {
   "cell_type": "code",
   "execution_count": null,
   "id": "eb0d1582",
   "metadata": {},
   "outputs": [],
   "source": [
    "plot(points, lines=False)"
   ]
  },
  {
   "cell_type": "code",
   "execution_count": null,
   "id": "95dd327e",
   "metadata": {},
   "outputs": [],
   "source": [
    "plot(points)"
   ]
  },
  {
   "cell_type": "code",
   "execution_count": null,
   "id": "fe4e537d",
   "metadata": {},
   "outputs": [],
   "source": [
    "shuffle(points)\n",
    "plot(points)"
   ]
  },
  {
   "cell_type": "code",
   "execution_count": null,
   "id": "3f9c743b",
   "metadata": {},
   "outputs": [],
   "source": [
    "def nearest_first(points):\n",
    "    _points = copy(points)\n",
    "    new_points = []\n",
    "    p = points.pop()\n",
    "    \n",
    "    new_points.append(p)\n",
    "    \n",
    "    while len(_points) > 0:\n",
    "        dist = float(\"inf\")\n",
    "        nearest_i = 0\n",
    "        \n",
    "        shuffle(_points)\n",
    "        \n",
    "        for i in range(int(len(_points) / 3)):\n",
    "#         for i in range(int(len(_points))):\n",
    "            new_dist = np.linalg.norm(p - _points[i])\n",
    "            \n",
    "            if  new_dist < dist:\n",
    "                dist = new_dist\n",
    "                nearest_i = i\n",
    "                \n",
    "    \n",
    "        if len(_points) % 250 == 0:\n",
    "            print(f\"{len(_points)}\")\n",
    "            \n",
    "        p = _points.pop(nearest_i)\n",
    "        new_points.append(p)\n",
    "    \n",
    "    return new_points"
   ]
  },
  {
   "cell_type": "code",
   "execution_count": null,
   "id": "d06a2d3f",
   "metadata": {},
   "outputs": [],
   "source": [
    "new_points = nearest_first(points)\n",
    "plot(new_points)"
   ]
  },
  {
   "cell_type": "markdown",
   "id": "1038a291",
   "metadata": {},
   "source": [
    "Scale the dataset"
   ]
  },
  {
   "cell_type": "code",
   "execution_count": null,
   "id": "d2d5c795",
   "metadata": {},
   "outputs": [],
   "source": [
    "def scale(data):\n",
    "    xmin = min([x[0] for x in data])\n",
    "    xmax = max([x[0] for x in data])\n",
    "    ymin = min([x[1] for x in data])\n",
    "    ymax = max([x[1] for x in data])\n",
    "        \n",
    "    return [\n",
    "        (\n",
    "            round(((x - xmin) / (xmax - xmin)) * (XMAX - XMIN) + XMIN, 2),\n",
    "            round(((y - ymin) / (ymax - ymin)) * (YMAX - YMIN) + YMIN, 2),\n",
    "        )\n",
    "        for x, y in data\n",
    "    ]\n",
    "\n",
    "scaled_points = scale(new_points)\n",
    "\n",
    "xmin = min([x[0] for x in scaled_points])\n",
    "xmax = max([x[0] for x in scaled_points])\n",
    "\n",
    "ymin = min([x[1] for x in scaled_points])\n",
    "ymax = max([x[1] for x in scaled_points])"
   ]
  },
  {
   "cell_type": "code",
   "execution_count": null,
   "id": "1765f2c0",
   "metadata": {},
   "outputs": [],
   "source": [
    "xmin, xmax, ymin, ymax"
   ]
  },
  {
   "cell_type": "markdown",
   "id": "68b4c45c",
   "metadata": {},
   "source": [
    "Generate the gcode"
   ]
  },
  {
   "cell_type": "code",
   "execution_count": null,
   "id": "7ce98d7a",
   "metadata": {},
   "outputs": [],
   "source": [
    "filename = \"hack\"\n",
    "\n",
    "gcode = GCODE(filename, feedrate=1000)\n",
    "gcode.move_to_starting_position()\n",
    "\n",
    "gcode.pen_down()\n",
    "\n",
    "for x, y in scaled_points:\n",
    "    gcode.move_to(x, y)\n",
    "\n",
    "gcode.pen_up()\n",
    "\n",
    "gcode.move_to_starting_position()\n",
    "gcode.flush()"
   ]
  },
  {
   "cell_type": "markdown",
   "id": "fd7bfb9e",
   "metadata": {},
   "source": [
    "# Preview"
   ]
  },
  {
   "cell_type": "code",
   "execution_count": null,
   "id": "4b53f9ad",
   "metadata": {},
   "outputs": [],
   "source": [
    "svgio = BytesIO()\n",
    "filename = f\"{filename}.gcode\"\n",
    "\n",
    "last_x = (START_X - XMIN) / (XMAX - XMIN)\n",
    "last_y = (START_Y - YMIN) / (YMAX - YMIN)\n",
    "\n",
    "width = 210\n",
    "height = 297\n",
    "\n",
    "drawing = False\n",
    "\n",
    "\n",
    "with cairo.SVGSurface(svgio, width, height) as surface, open(filename) as f:\n",
    "    context = cairo.Context(surface)\n",
    "    context.scale(width, height)\n",
    "    context.set_line_width(0.0025)\n",
    "    context.set_source_rgba(0, 0, 0, 1)\n",
    "    \n",
    "    for line in f.readlines():\n",
    "        if \"G0\" in line:\n",
    "                \n",
    "            tokens = line.strip().split(\" \")[1:]\n",
    "            x = (float(tokens[0][1:]) - XMIN) / (XMAX - XMIN)\n",
    "            y = (float(tokens[1][1:]) - YMIN) / (YMAX - YMIN)\n",
    "\n",
    "            if writing:  \n",
    "                context.move_to(last_x, last_y)\n",
    "                context.line_to(x, y)\n",
    "                context.stroke()\n",
    "\n",
    "            last_x = x\n",
    "            last_y = y\n",
    "            \n",
    "        if \"M280 P0\" in line:\n",
    "            tokens = line.strip().split(\" \")[1:]\n",
    "            if tokens[1] == \"S0\":\n",
    "                writing = False\n",
    "            elif tokens[1] == \"S90\":\n",
    "                writing = True\n",
    "\n",
    "IPython.display.SVG(data=svgio.getvalue())"
   ]
  },
  {
   "cell_type": "code",
   "execution_count": null,
   "id": "f0f1d6cd",
   "metadata": {},
   "outputs": [],
   "source": []
  }
 ],
 "metadata": {
  "kernelspec": {
   "display_name": "Python 3 (ipykernel)",
   "language": "python",
   "name": "python3"
  },
  "language_info": {
   "codemirror_mode": {
    "name": "ipython",
    "version": 3
   },
   "file_extension": ".py",
   "mimetype": "text/x-python",
   "name": "python",
   "nbconvert_exporter": "python",
   "pygments_lexer": "ipython3",
   "version": "3.10.0"
  }
 },
 "nbformat": 4,
 "nbformat_minor": 5
}
