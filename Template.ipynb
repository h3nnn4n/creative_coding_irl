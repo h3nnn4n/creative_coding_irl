{
 "cells": [
  {
   "cell_type": "code",
   "execution_count": null,
   "id": "d30b402b",
   "metadata": {},
   "outputs": [],
   "source": [
    "from foobah.gcode import GCODE\n",
    "from foobah.utils import preview_png\n",
    "from foobah.methods import line_threshold\n",
    "from foobah import constants\n",
    "from foobah.constants import XMAX, XMIN, YMAX, YMIN\n",
    "\n",
    "import PIL\n",
    "import PIL.Image\n",
    "import PIL.ImageFilter\n",
    "\n",
    "import math\n",
    "import numpy as np\n",
    "\n",
    "import random\n",
    "from random import uniform\n",
    "from scipy.spatial import Delaunay, KDTree\n",
    "\n",
    "from collections import defaultdict\n",
    "from operator import itemgetter\n",
    "\n",
    "from IPython.display import display"
   ]
  },
  {
   "cell_type": "code",
   "execution_count": null,
   "id": "43970b11",
   "metadata": {},
   "outputs": [],
   "source": [
    "basename = \"test\""
   ]
  },
  {
   "cell_type": "code",
   "execution_count": null,
   "id": "220ba79b",
   "metadata": {},
   "outputs": [],
   "source": [
    "gcode = GCODE(basename, feedrate=2000, scale=(0, 210, 0, 297))\n",
    "gcode.move_to_starting_position()\n",
    "gcode.draw_boundaries()\n",
    "gcode.pen_up()"
   ]
  },
  {
   "cell_type": "code",
   "execution_count": null,
   "id": "4726c8f1",
   "metadata": {},
   "outputs": [],
   "source": [
    "gcode.travel_to(10, 10)\n",
    "\n",
    "gcode.line_to(10, 20)\n",
    "gcode.line_to(20, 20)\n",
    "gcode.line_to(20, 10)\n",
    "gcode.line_to(10, 10)"
   ]
  },
  {
   "cell_type": "code",
   "execution_count": null,
   "id": "9f0c6322",
   "metadata": {},
   "outputs": [],
   "source": [
    "# Boca\n",
    "gcode.travel_to(100, 200)\n",
    "gcode.line_to(110, 210)\n",
    "gcode.line_to(130, 210)\n",
    "gcode.line_to(140, 200)\n",
    "\n",
    "# Olhos\n",
    "gcode.travel_to(110, 190)\n",
    "gcode.line_to(110, 180)\n",
    "\n",
    "gcode.travel_to(130, 190)\n",
    "gcode.line_to(130, 180)"
   ]
  },
  {
   "cell_type": "code",
   "execution_count": null,
   "id": "2aa742c4",
   "metadata": {},
   "outputs": [],
   "source": [
    "gcode.square(20, 20, 30, 30)\n",
    "gcode.square_filled(30, 30, 40, 40, dy=0.7, zigzag=False)"
   ]
  },
  {
   "cell_type": "code",
   "execution_count": null,
   "id": "75b1ae25",
   "metadata": {},
   "outputs": [],
   "source": [
    "def square(x, y, width=10):\n",
    "    gcode.square_filled(x, y, x + width, y + width, dy=0.7, zigzag=False)\n",
    "\n",
    "# Quadrado \n",
    "square(50, 50)\n",
    "square(50, 60)\n",
    "square(60, 50)\n",
    "square(60, 60)\n",
    "\n",
    "# L\n",
    "square(100, 50)\n",
    "square(100, 60)\n",
    "square(100, 70)\n",
    "square(110, 70)\n",
    "\n",
    "# T\n",
    "square(100, 100)\n",
    "square(110, 100)\n",
    "square(120, 100)\n",
    "square(110, 110)"
   ]
  },
  {
   "cell_type": "code",
   "execution_count": null,
   "id": "297053bd",
   "metadata": {},
   "outputs": [],
   "source": [
    "gcode.pen_up()\n",
    "gcode.move_to_starting_position()\n",
    "gcode.flush()"
   ]
  },
  {
   "cell_type": "code",
   "execution_count": null,
   "id": "a2b1bf56",
   "metadata": {},
   "outputs": [],
   "source": [
    "preview_png(basename, scale=3)"
   ]
  }
 ],
 "metadata": {
  "kernelspec": {
   "display_name": "Python 3 (ipykernel)",
   "language": "python",
   "name": "python3"
  },
  "language_info": {
   "codemirror_mode": {
    "name": "ipython",
    "version": 3
   },
   "file_extension": ".py",
   "mimetype": "text/x-python",
   "name": "python",
   "nbconvert_exporter": "python",
   "pygments_lexer": "ipython3",
   "version": "3.10.2"
  }
 },
 "nbformat": 4,
 "nbformat_minor": 5
}
