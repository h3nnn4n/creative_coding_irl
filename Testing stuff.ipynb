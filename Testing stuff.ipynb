{
 "cells": [
  {
   "cell_type": "code",
   "execution_count": null,
   "id": "455c51cf",
   "metadata": {},
   "outputs": [],
   "source": [
    "from foobah.gcode import GCODE\n",
    "from foobah.utils import preview_png\n",
    "from foobah.methods import line_threshold\n",
    "from foobah import constants\n",
    "from foobah.constants import XMAX, XMIN, YMAX, YMIN\n",
    "\n",
    "import PIL\n",
    "import PIL.Image\n",
    "import PIL.ImageFilter\n",
    "\n",
    "import math\n",
    "import numpy as np\n",
    "\n",
    "import random\n",
    "from random import uniform\n",
    "from scipy.spatial import Delaunay, KDTree\n",
    "\n",
    "from collections import defaultdict\n",
    "from operator import itemgetter\n",
    "\n",
    "from IPython.display import display"
   ]
  },
  {
   "cell_type": "code",
   "execution_count": null,
   "id": "aec03cef",
   "metadata": {},
   "outputs": [],
   "source": [
    "basename = \"foob\"\n",
    "\n",
    "gcode = GCODE(basename, feedrate=1000)\n",
    "gcode.move_to_starting_position()\n",
    "gcode.pen_down()\n",
    "gcode.draw_boundaries()\n",
    "gcode.pen_up()\n",
    "\n",
    "gcode.pen_up()\n",
    "gcode.move_to_mid_point()"
   ]
  },
  {
   "cell_type": "code",
   "execution_count": null,
   "id": "ba645209",
   "metadata": {},
   "outputs": [],
   "source": [
    "for l in range(5, 100, 5):\n",
    "    gcode.travel_to(0, l)\n",
    "    gcode.line_to(l, l)\n",
    "    \n",
    "    gcode.pen_up()\n",
    "    gcode.move_to(0, l + 1)\n",
    "    gcode.pen_down()\n",
    "    gcode.move_to(l, l + 1)\n",
    "    gcode.pen_up()"
   ]
  },
  {
   "cell_type": "code",
   "execution_count": null,
   "id": "bd9bdf0e",
   "metadata": {},
   "outputs": [],
   "source": [
    "gcode.pen_up()\n",
    "gcode.move_to_starting_position()\n",
    "gcode.flush()"
   ]
  },
  {
   "cell_type": "code",
   "execution_count": null,
   "id": "f752378a",
   "metadata": {},
   "outputs": [],
   "source": [
    "preview_png(basename, scale=4)"
   ]
  },
  {
   "cell_type": "code",
   "execution_count": null,
   "id": "a1332411",
   "metadata": {},
   "outputs": [],
   "source": []
  }
 ],
 "metadata": {
  "kernelspec": {
   "display_name": "Python 3 (ipykernel)",
   "language": "python",
   "name": "python3"
  },
  "language_info": {
   "codemirror_mode": {
    "name": "ipython",
    "version": 3
   },
   "file_extension": ".py",
   "mimetype": "text/x-python",
   "name": "python",
   "nbconvert_exporter": "python",
   "pygments_lexer": "ipython3",
   "version": "3.10.0"
  }
 },
 "nbformat": 4,
 "nbformat_minor": 5
}
