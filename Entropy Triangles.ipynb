{
 "cells": [
  {
   "cell_type": "code",
   "execution_count": null,
   "id": "8de63309",
   "metadata": {},
   "outputs": [],
   "source": [
    "from foobah.gcode import GCODE\n",
    "from foobah.utils import preview_png\n",
    "from foobah import constants\n",
    "from foobah.constants import XMAX, XMIN, YMAX, YMIN\n",
    "\n",
    "import PIL\n",
    "import PIL.Image\n",
    "import PIL.ImageFilter\n",
    "\n",
    "import math\n",
    "import numpy as np\n",
    "\n",
    "import random\n",
    "from random import uniform\n",
    "from scipy.spatial import Delaunay, KDTree\n",
    "\n",
    "from collections import defaultdict\n",
    "from operator import itemgetter\n",
    "\n",
    "from IPython.display import display"
   ]
  },
  {
   "cell_type": "code",
   "execution_count": null,
   "id": "6af47df3",
   "metadata": {},
   "outputs": [],
   "source": [
    "basename = \"dafoe\"\n",
    "\n",
    "scale = 2\n",
    "# image_name = \"images/moonface.png\"\n",
    "# image_name = \"images/einstein.jpg\"\n",
    "image_name = \"images/david-bowie.jpg\"\n",
    "image_name  = \"images/scary_penguin.webp\"\n",
    "# image_name = \"images/portrait_1.jpg\"\n",
    "# image_name = \"images/dafoe.jpg\"\n",
    "\n",
    "image = PIL.Image.open(image_name)\n",
    "\n",
    "image = image.resize((int(image.width / scale), int(image.height / scale)), PIL.Image.ANTIALIAS)\n",
    "# image = image.filter(PIL.ImageFilter.EDGE_ENHANCE_MORE)\n",
    "# image = image.filter(PIL.ImageFilter.SMOOTH_MORE)\n",
    "# image = image.filter(PIL.ImageFilter.CONTOUR)\n",
    "# image = image.filter(PIL.ImageFilter.DETAIL)\n",
    "# image = image.filter(PIL.ImageFilter.EDGE_ENHANCE)\n",
    "# image = image.filter(PIL.ImageFilter.EDGE_ENHANCE_MORE)\n",
    "# image = image.filter(PIL.ImageFilter.SMOOTH_MORE)\n",
    "\n",
    "# image = image.rotate(-90, expand=True)\n",
    "\n",
    "image = image.convert(\"RGB\")\n",
    "\n",
    "width = image.width\n",
    "height = image.height\n",
    "\n",
    "display(image)"
   ]
  },
  {
   "cell_type": "code",
   "execution_count": null,
   "id": "3ac090b5",
   "metadata": {},
   "outputs": [],
   "source": [
    "def move_to(gcode, x, y):\n",
    "    gcode.move_to(\n",
    "        ((x) / image.width) * (XMAX - XMIN) + XMIN,\n",
    "        ((y) / image.height) * (YMAX - YMIN) + YMIN,\n",
    "    )"
   ]
  },
  {
   "cell_type": "code",
   "execution_count": null,
   "id": "6dcbd9a8",
   "metadata": {},
   "outputs": [],
   "source": [
    "gcode = GCODE(basename, feedrate=1500)\n",
    "# gcode.move_to_starting_position()\n",
    "# gcode.pen_down()\n",
    "# gcode.draw_boundaries()\n",
    "# gcode.pen_up()\n",
    "\n",
    "gcode.pen_up()\n",
    "gcode.move_to_mid_point()"
   ]
  },
  {
   "cell_type": "code",
   "execution_count": null,
   "id": "4716a19a",
   "metadata": {},
   "outputs": [],
   "source": [
    "point_cloud = []\n",
    "\n",
    "pixel_step = 3\n",
    "\n",
    "for x in range(0, image.width, pixel_step):\n",
    "    for y in range(0, image.height, pixel_step):\n",
    "        dx = uniform(-pixel_step / 2, pixel_step / 2)\n",
    "        dy = uniform(-pixel_step / 2, pixel_step / 2)\n",
    "        \n",
    "        try:\n",
    "            r, g, b = image.getpixel((x + dx, y + dy))\n",
    "        except IndexError:\n",
    "            continue\n",
    "            \n",
    "        intensity = ((255 - r) + (255 - g) + (255 - b)) / (255 * 3.0)\n",
    "#         intensity = 1.0 - intensity\n",
    "        \n",
    "        if pow(intensity, 4) > uniform(0, 1):\n",
    "            point_cloud.append((x + dx, y + dy))\n",
    "            \n",
    "print(len(point_cloud))"
   ]
  },
  {
   "cell_type": "code",
   "execution_count": null,
   "id": "5ad04521",
   "metadata": {},
   "outputs": [],
   "source": [
    "min_dist = 5\n",
    "\n",
    "kd_tree = KDTree(point_cloud)\n",
    "close_points = kd_tree.query_pairs(min_dist)\n",
    "print(len(close_points))\n",
    "\n",
    "d = defaultdict(int)\n",
    "for p1, p2 in close_points:\n",
    "    d[p1] += 1\n",
    "    d[p2] += 1\n",
    "\n",
    "d_ = sorted(d.items(), key=itemgetter(1), reverse=True)\n",
    "\n",
    "# point_cloud = [x for index, x in enumerate(point_cloud) if index not in d or uniform(0, 1) > 0.5]\n",
    "print(len(point_cloud))"
   ]
  },
  {
   "cell_type": "code",
   "execution_count": null,
   "id": "4e5bf0cf",
   "metadata": {},
   "outputs": [],
   "source": [
    "# point_cloud = [x for x in point_cloud if uniform(0, 1) > 0.25]\n",
    "print(len(point_cloud)) "
   ]
  },
  {
   "cell_type": "code",
   "execution_count": null,
   "id": "d0eb4204",
   "metadata": {},
   "outputs": [],
   "source": [
    "import matplotlib.pyplot as plt\n",
    "plt.figure(figsize=(7, 12))\n",
    "plt.scatter(\n",
    "    [x[0] for x in point_cloud], \n",
    "    [-x[1] for x in point_cloud],\n",
    "    s=1,\n",
    ")"
   ]
  },
  {
   "cell_type": "code",
   "execution_count": null,
   "id": "bd6606ac",
   "metadata": {},
   "outputs": [],
   "source": [
    "tri = Delaunay(point_cloud, furthest_site=False)"
   ]
  },
  {
   "cell_type": "code",
   "execution_count": null,
   "id": "dcbf6b38",
   "metadata": {},
   "outputs": [],
   "source": [
    "for a, b, c in tri.simplices:\n",
    "    p1 = point_cloud[a]\n",
    "    p2 = point_cloud[b]\n",
    "    p3 = point_cloud[c]\n",
    "    \n",
    "    gcode.pen_up()\n",
    "    move_to(gcode, *p1)\n",
    "    gcode.pen_down()\n",
    "    move_to(gcode, *p2)\n",
    "    move_to(gcode, *p3)\n",
    "    move_to(gcode, *p1)\n",
    "    gcode.pen_up()"
   ]
  },
  {
   "cell_type": "code",
   "execution_count": null,
   "id": "446d844f",
   "metadata": {},
   "outputs": [],
   "source": [
    "gcode.pen_up()\n",
    "gcode.move_to_starting_position()\n",
    "gcode.flush()"
   ]
  },
  {
   "cell_type": "code",
   "execution_count": null,
   "id": "4f997e14",
   "metadata": {},
   "outputs": [],
   "source": [
    "preview_png(basename, scale=3)"
   ]
  },
  {
   "cell_type": "code",
   "execution_count": null,
   "id": "3f2661ac",
   "metadata": {},
   "outputs": [],
   "source": []
  }
 ],
 "metadata": {
  "kernelspec": {
   "display_name": "Python 3 (ipykernel)",
   "language": "python",
   "name": "python3"
  },
  "language_info": {
   "codemirror_mode": {
    "name": "ipython",
    "version": 3
   },
   "file_extension": ".py",
   "mimetype": "text/x-python",
   "name": "python",
   "nbconvert_exporter": "python",
   "pygments_lexer": "ipython3",
   "version": "3.10.2"
  }
 },
 "nbformat": 4,
 "nbformat_minor": 5
}
