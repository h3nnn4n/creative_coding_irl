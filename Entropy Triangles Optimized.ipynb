{
 "cells": [
  {
   "cell_type": "code",
   "execution_count": null,
   "id": "8de63309",
   "metadata": {},
   "outputs": [],
   "source": [
    "from foobah.gcode import GCODE\n",
    "from foobah.utils import preview_png\n",
    "from foobah.methods import line_threshold\n",
    "from foobah import constants\n",
    "from foobah.constants import XMAX, XMIN, YMAX, YMIN\n",
    "\n",
    "import PIL\n",
    "import PIL.Image\n",
    "import PIL.ImageFilter\n",
    "\n",
    "import math\n",
    "import numpy as np\n",
    "\n",
    "import random\n",
    "from random import uniform\n",
    "from scipy.spatial import Delaunay, KDTree\n",
    "\n",
    "from collections import defaultdict\n",
    "from operator import itemgetter\n",
    "\n",
    "from IPython.display import display"
   ]
  },
  {
   "cell_type": "code",
   "execution_count": null,
   "id": "6af47df3",
   "metadata": {},
   "outputs": [],
   "source": [
    "basename = \"portrait_1\"\n",
    "\n",
    "scale = 2\n",
    "# image_name = \"images/moonface.png\"\n",
    "# image_name = \"images/einstein.jpg\"\n",
    "# image_name = \"images/david-bowie.jpg\"\n",
    "# image_name  = \"images/scary_penguin.webp\"\n",
    "image_name = \"images/portrait_1.jpg\"\n",
    "# image_name = \"images/simplex_noise_difference_clouds.png\"\n",
    "# image_name = \"images/dafoe.jpg\"\n",
    "\n",
    "image = PIL.Image.open(image_name)\n",
    "\n",
    "image = image.resize((int(image.width / scale), int(image.height / scale)), PIL.Image.ANTIALIAS)\n",
    "# image = image.filter(PIL.ImageFilter.EDGE_ENHANCE_MORE)\n",
    "# image = image.filter(PIL.ImageFilter.SMOOTH_MORE)\n",
    "# image = image.filter(PIL.ImageFilter.CONTOUR)\n",
    "# image = image.filter(PIL.ImageFilter.DETAIL)\n",
    "# image = image.filter(PIL.ImageFilter.EDGE_ENHANCE)\n",
    "# image = image.filter(PIL.ImageFilter.EDGE_ENHANCE_MORE)\n",
    "# image = image.filter(PIL.ImageFilter.SMOOTH_MORE)\n",
    "\n",
    "# image = image.rotate(-90, expand=True)\n",
    "\n",
    "image = image.convert(\"RGB\")\n",
    "\n",
    "width = image.width\n",
    "height = image.height\n",
    "\n",
    "display(image)"
   ]
  },
  {
   "cell_type": "code",
   "execution_count": null,
   "id": "3ac090b5",
   "metadata": {},
   "outputs": [],
   "source": [
    "def move_to(gcode, x, y):\n",
    "    gcode.move_to(\n",
    "        ((x) / image.width) * (XMAX - XMIN) + XMIN,\n",
    "        ((y) / image.height) * (YMAX - YMIN) + YMIN,\n",
    "    )"
   ]
  },
  {
   "cell_type": "code",
   "execution_count": null,
   "id": "4716a19a",
   "metadata": {},
   "outputs": [],
   "source": [
    "point_cloud = []\n",
    "\n",
    "pixel_step = 10\n",
    "\n",
    "for x in range(0, image.width, pixel_step):\n",
    "    for y in range(0, image.height, pixel_step):\n",
    "        dx = uniform(-pixel_step / 2, pixel_step / 2)\n",
    "        dy = uniform(-pixel_step / 2, pixel_step / 2)\n",
    "        \n",
    "        try:\n",
    "            r, g, b = image.getpixel((x + dx, y + dy))\n",
    "        except IndexError:\n",
    "            continue\n",
    "            \n",
    "        intensity = ((255 - r) + (255 - g) + (255 - b)) / (255 * 3.0)\n",
    "#         intensity = 1.0 - intensity\n",
    "        \n",
    "        if pow(intensity, 4) > uniform(0, 1):\n",
    "            point_cloud.append((x + dx, y + dy))\n",
    "            \n",
    "print(len(point_cloud))"
   ]
  },
  {
   "cell_type": "code",
   "execution_count": null,
   "id": "5ad04521",
   "metadata": {},
   "outputs": [],
   "source": [
    "min_dist = 0\n",
    "\n",
    "kd_tree = KDTree(point_cloud)\n",
    "close_points = kd_tree.query_pairs(min_dist)\n",
    "print(len(close_points))\n",
    "\n",
    "d = defaultdict(int)\n",
    "for p1, p2 in close_points:\n",
    "    d[p1] += 1\n",
    "    d[p2] += 1\n",
    "\n",
    "d_ = sorted(d.items(), key=itemgetter(1), reverse=True)\n",
    "\n",
    "point_cloud = [x for index, x in enumerate(point_cloud) if index not in d or uniform(0, 1) > 0.5]\n",
    "print(len(point_cloud))"
   ]
  },
  {
   "cell_type": "code",
   "execution_count": null,
   "id": "4e5bf0cf",
   "metadata": {},
   "outputs": [],
   "source": [
    "point_cloud = [x for x in point_cloud if uniform(0, 1) > 0.5]\n",
    "print(len(point_cloud)) "
   ]
  },
  {
   "cell_type": "code",
   "execution_count": null,
   "id": "d0eb4204",
   "metadata": {},
   "outputs": [],
   "source": [
    "import matplotlib.pyplot as plt\n",
    "plt.figure(figsize=(7, 12))\n",
    "plt.scatter(\n",
    "    [x[0] for x in point_cloud], \n",
    "    [-x[1] for x in point_cloud],\n",
    "    s=1,\n",
    ")"
   ]
  },
  {
   "cell_type": "code",
   "execution_count": null,
   "id": "1ff4b92d",
   "metadata": {},
   "outputs": [],
   "source": [
    "def get_adjacent_edge(edges, vertex, eps=1e-4):\n",
    "    for k, (v1, v2) in enumerate(edges):\n",
    "\n",
    "        if dist(v1, vertex) < eps:\n",
    "            return k, (v1, v2)\n",
    "        \n",
    "        if dist(v2, vertex) < eps:\n",
    "            return k, (v2, v1)\n",
    "        \n",
    "    return None, None\n",
    "\n",
    "\n",
    "def dist(a, b):\n",
    "    if isinstance(a, (list, tuple)):\n",
    "        a = np.array(a)\n",
    "        \n",
    "    if isinstance(b, (list, tuple)):\n",
    "        b = np.array(b)\n",
    "        \n",
    "    return np.linalg.norm(a-b)"
   ]
  },
  {
   "cell_type": "code",
   "execution_count": null,
   "id": "bd6606ac",
   "metadata": {},
   "outputs": [],
   "source": [
    "tri = Delaunay(point_cloud, furthest_site=False)\n",
    "edges = []\n",
    "\n",
    "for a, b, c in tri.simplices:\n",
    "    p1 = point_cloud[a]\n",
    "    p2 = point_cloud[b]\n",
    "    p3 = point_cloud[c]\n",
    "    \n",
    "    zero = (0, 0)\n",
    "    \n",
    "    if dist(0, p1) < dist(0, p2):\n",
    "        edges.append((p1, p2))\n",
    "    else:\n",
    "        edges.append((p2, p1))\n",
    "    \n",
    "    if dist(0, p1) < dist(0, p3):\n",
    "        edges.append((p1, p3))\n",
    "    else:\n",
    "        edges.append((p3, p1))\n",
    "        \n",
    "    if dist(0, p2) < dist(0, p3):\n",
    "        edges.append((p2, p3))\n",
    "    else:\n",
    "        edges.append((p3, p2))\n",
    "        \n",
    "print(len(edges))\n",
    "edges = list(set(edges))\n",
    "print(len(edges))"
   ]
  },
  {
   "cell_type": "code",
   "execution_count": null,
   "id": "8c912b35",
   "metadata": {},
   "outputs": [],
   "source": [
    "# print(len(edges))\n",
    "# edges = [(v1, v2) for v1, v2 in edges if dist(v1, v2) > 4 and dist(v1, v2) < 50]\n",
    "# print(len(edges))"
   ]
  },
  {
   "cell_type": "code",
   "execution_count": null,
   "id": "8f3ddca0",
   "metadata": {},
   "outputs": [],
   "source": [
    "def plot_line(gcode, edges):\n",
    "    v1, v2 =edges.pop(0)\n",
    "    \n",
    "    gcode.pen_up()\n",
    "    move_to(gcode, *v1)\n",
    "    \n",
    "    gcode.pen_down()\n",
    "    \n",
    "    move_to(gcode, *v2)\n",
    "    \n",
    "    while True:\n",
    "        k, v = get_adjacent_edge(edges, v2)\n",
    "        if not k:\n",
    "            break\n",
    "        \n",
    "        edges.pop(k)\n",
    "        _,  v2 = v\n",
    "        \n",
    "        move_to(gcode, *v2)\n",
    "        \n",
    "    \n",
    "    gcode.pen_up()"
   ]
  },
  {
   "cell_type": "code",
   "execution_count": null,
   "id": "c8bd80b0",
   "metadata": {},
   "outputs": [],
   "source": [
    "gcode = GCODE(basename, feedrate=1000)\n",
    "# gcode.move_to_starting_position()\n",
    "gcode.pen_down()\n",
    "gcode.draw_boundaries()\n",
    "gcode.pen_up()\n",
    "\n",
    "gcode.pen_up()\n",
    "gcode.move_to_mid_point()"
   ]
  },
  {
   "cell_type": "code",
   "execution_count": null,
   "id": "e35a7f3b",
   "metadata": {},
   "outputs": [],
   "source": [
    "while len(edges) > 0:\n",
    "    print(len(edges))\n",
    "    plot_line(gcode, edges)"
   ]
  },
  {
   "cell_type": "code",
   "execution_count": null,
   "id": "446d844f",
   "metadata": {},
   "outputs": [],
   "source": [
    "gcode.pen_up()\n",
    "gcode.move_to_starting_position()\n",
    "gcode.flush()"
   ]
  },
  {
   "cell_type": "code",
   "execution_count": null,
   "id": "4f997e14",
   "metadata": {},
   "outputs": [],
   "source": [
    "preview_png(basename, scale=4)"
   ]
  }
 ],
 "metadata": {
  "kernelspec": {
   "display_name": "Python 3 (ipykernel)",
   "language": "python",
   "name": "python3"
  },
  "language_info": {
   "codemirror_mode": {
    "name": "ipython",
    "version": 3
   },
   "file_extension": ".py",
   "mimetype": "text/x-python",
   "name": "python",
   "nbconvert_exporter": "python",
   "pygments_lexer": "ipython3",
   "version": "3.10.0"
  }
 },
 "nbformat": 4,
 "nbformat_minor": 5
}
