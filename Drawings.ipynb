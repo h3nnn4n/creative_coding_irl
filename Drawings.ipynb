{
 "cells": [
  {
   "cell_type": "code",
   "execution_count": 14,
   "id": "df303f45",
   "metadata": {},
   "outputs": [],
   "source": [
    "import numpy  as np\n",
    "from random import uniform\n",
    "from copy import copy\n",
    "import math"
   ]
  },
  {
   "cell_type": "code",
   "execution_count": 2,
   "id": "49943be8",
   "metadata": {},
   "outputs": [],
   "source": [
    "XMAX = 105\n",
    "XMIN = -XMAX\n",
    "YMAX = 195\n",
    "YMIN = -90\n",
    "\n",
    "XMID = (XMAX + XMIN) / 2.0\n",
    "YMID = (YMAX + YMIN) / 2.0\n",
    "\n",
    "START_X = 0\n",
    "START_Y = 200"
   ]
  },
  {
   "cell_type": "code",
   "execution_count": 3,
   "id": "60e988f2",
   "metadata": {},
   "outputs": [
    {
     "data": {
      "text/plain": [
       "0.0"
      ]
     },
     "execution_count": 3,
     "metadata": {},
     "output_type": "execute_result"
    }
   ],
   "source": [
    "XMID"
   ]
  },
  {
   "cell_type": "code",
   "execution_count": 4,
   "id": "5ed124aa",
   "metadata": {},
   "outputs": [],
   "source": [
    "def clamp(value, min_value, max_value):\n",
    "    return min(max(value, min_value), max_value)"
   ]
  },
  {
   "cell_type": "code",
   "execution_count": 7,
   "id": "dc4a5dcf",
   "metadata": {},
   "outputs": [],
   "source": [
    "class GCODE:\n",
    "    def __init__(self, name=\"foobar\", feedrate=1000):\n",
    "        self.start_pos = np.array([START_X, START_Y])\n",
    "        self.pos = copy(self.start_pos)\n",
    "        self.f = open(f\"{name}.gcode\", \"wt\")\n",
    "        self.feedrate = feedrate\n",
    "        \n",
    "        self.f.write(\"M17\\n\")\n",
    "        self.f.write(\"M121\\n\")\n",
    "        self.f.write(\"; potatolangelo\\n\")\n",
    "        \n",
    "    def move_to(self, x, y, feedrate=None):\n",
    "        feedrate = feedrate or self.feedrate\n",
    "        \n",
    "        x = clamp(x, XMIN, XMAX)\n",
    "        y = clamp(y, YMIN, YMAX)\n",
    "        \n",
    "        self.pos[0] = x\n",
    "        self.pos[1] = y\n",
    "        \n",
    "        self.f.write(f\"G0 X{x} Y{y} F{feedrate}\\n\")\n",
    "        \n",
    "    def step(self, dx, dy, feedrate=None):\n",
    "        feedrate = feedrate or self.feedrate\n",
    "        self.pos[0] += dx\n",
    "        self.pos[1] += dy\n",
    "        \n",
    "        x = self.pos[0]\n",
    "        y = self.pos[1]\n",
    "        x = clamp(x, XMIN, XMAX)\n",
    "        y = clamp(y, YMIN, YMAX)\n",
    "        self.pos[0] = x\n",
    "        self.pos[1] = y\n",
    "        \n",
    "        self.f.write(f\"G0 X{x} Y{y} F{feedrate}\\n\")\n",
    "        \n",
    "    def go_to_starting_position(self):\n",
    "            self.f.write(f\"G0 X{self.start_pos[0]} Y{self.start_pos[1]} F{self.feedrate}\\n\")\n",
    "            \n",
    "    def flush(self):\n",
    "        self.f.flush()"
   ]
  },
  {
   "cell_type": "code",
   "execution_count": 8,
   "id": "17e7a6e3",
   "metadata": {},
   "outputs": [],
   "source": [
    "gcode = GCODE(\"foobar\", feedrate=5000)\n",
    "\n",
    "gcode.move_to(0, 50)\n",
    "gcode.move_to(-50, 50)\n",
    "gcode.move_to(-50, 0)\n",
    "gcode.move_to(-50, -50)\n",
    "gcode.move_to(0, -50)\n",
    "gcode.move_to(50, -50)\n",
    "gcode.move_to(50, 0)\n",
    "gcode.move_to(50, 50)\n",
    "gcode.move_to(0, 50)\n",
    "\n",
    "gcode.go_to_starting_position()\n",
    "\n",
    "gcode.flush()"
   ]
  },
  {
   "cell_type": "code",
   "execution_count": 9,
   "id": "2d1dbe50",
   "metadata": {},
   "outputs": [],
   "source": [
    "gcode = GCODE(\"random\", feedrate=1000)\n",
    "\n",
    "size = 5\n",
    "\n",
    "gcode.move_to(XMID, YMID, feedrate=5000)\n",
    "\n",
    "for _ in range(100):\n",
    "    gcode.step(\n",
    "        uniform(-size, size),\n",
    "        uniform(-size, size)\n",
    "    )\n",
    "\n",
    "gcode.go_to_starting_position()\n",
    "\n",
    "gcode.flush()"
   ]
  },
  {
   "cell_type": "code",
   "execution_count": 18,
   "id": "c43e548c",
   "metadata": {},
   "outputs": [],
   "source": [
    "size = 5\n",
    "radius = 0\n",
    "n_steps = 360 * 2\n",
    "angle = 0\n",
    "\n",
    "noise = 1\n",
    "\n",
    "gcode = GCODE(\"spiral\", feedrate=1500)\n",
    "gcode.move_to(XMID, YMID, feedrate=5000)\n",
    "\n",
    "\n",
    "for _ in range(n_steps):\n",
    "    radius += XMAX / float(n_steps)\n",
    "    \n",
    "    gcode.move_to(\n",
    "        radius * math.sin(angle) + XMID + uniform(-noise, noise),\n",
    "        radius * math.cos(angle) + YMID + uniform(-noise, noise),\n",
    "    )\n",
    "    \n",
    "    angle += math.radians(1)\n",
    "\n",
    "gcode.go_to_starting_position()\n",
    "\n",
    "gcode.flush()"
   ]
  },
  {
   "cell_type": "code",
   "execution_count": null,
   "id": "345d0a1e",
   "metadata": {},
   "outputs": [],
   "source": []
  }
 ],
 "metadata": {
  "kernelspec": {
   "display_name": "Python 3 (ipykernel)",
   "language": "python",
   "name": "python3"
  },
  "language_info": {
   "codemirror_mode": {
    "name": "ipython",
    "version": 3
   },
   "file_extension": ".py",
   "mimetype": "text/x-python",
   "name": "python",
   "nbconvert_exporter": "python",
   "pygments_lexer": "ipython3",
   "version": "3.10.2"
  }
 },
 "nbformat": 4,
 "nbformat_minor": 5
}
