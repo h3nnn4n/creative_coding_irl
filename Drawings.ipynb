{
 "cells": [
  {
   "cell_type": "code",
   "execution_count": 25,
   "id": "df303f45",
   "metadata": {},
   "outputs": [],
   "source": [
    "import numpy  as np\n",
    "from random import uniform\n",
    "from copy import copy\n",
    "import math"
   ]
  },
  {
   "cell_type": "code",
   "execution_count": 26,
   "id": "9820b7e8",
   "metadata": {},
   "outputs": [],
   "source": [
    "XMAX = 105\n",
    "XMIN = -XMAX\n",
    "YMAX = 195\n",
    "YMIN = -90\n",
    "\n",
    "XMID = (XMAX + XMIN) / 2.0\n",
    "YMID = (YMAX + YMIN) / 2.0\n",
    "\n",
    "START_X = 0\n",
    "START_Y = 200"
   ]
  },
  {
   "cell_type": "code",
   "execution_count": 27,
   "id": "22676148",
   "metadata": {},
   "outputs": [
    {
     "data": {
      "text/plain": [
       "0.0"
      ]
     },
     "execution_count": 27,
     "metadata": {},
     "output_type": "execute_result"
    }
   ],
   "source": [
    "XMID"
   ]
  },
  {
   "cell_type": "code",
   "execution_count": 28,
   "id": "cbbb402d",
   "metadata": {},
   "outputs": [],
   "source": [
    "def clamp(value, min_value, max_value):\n",
    "    return min(max(value, min_value), max_value)"
   ]
  },
  {
   "cell_type": "code",
   "execution_count": 48,
   "id": "d6e0298e",
   "metadata": {},
   "outputs": [],
   "source": [
    "class GCODE:\n",
    "    def __init__(self, name=\"foobar\", feedrate=1000):\n",
    "        self.start_pos = np.array([START_X, START_Y])\n",
    "        self.pos = copy(self.start_pos)\n",
    "        self.f = open(f\"{name}.gcode\", \"wt\")\n",
    "        self.feedrate = feedrate\n",
    "        \n",
    "        self.f.write(\"M17\\n\")\n",
    "        self.f.write(\"M121\\n\")\n",
    "        self.f.write(\"; potatolangelo\\n\")\n",
    "        \n",
    "    def pen_up(self):\n",
    "        pass\n",
    "    \n",
    "    def pen_down(self):\n",
    "        pass\n",
    "        \n",
    "    def move_to(self, x, y, feedrate=None):\n",
    "        feedrate = feedrate or self.feedrate\n",
    "        \n",
    "        x = clamp(x, XMIN, XMAX)\n",
    "        y = clamp(y, YMIN, YMAX)\n",
    "        \n",
    "        self.pos[0] = x\n",
    "        self.pos[1] = y\n",
    "        \n",
    "        self.f.write(f\"G0 X{x} Y{y} F{feedrate}\\n\")\n",
    "        \n",
    "    def step(self, dx, dy, feedrate=None):\n",
    "        feedrate = feedrate or self.feedrate\n",
    "        self.pos[0] += dx\n",
    "        self.pos[1] += dy\n",
    "        \n",
    "        x = self.pos[0]\n",
    "        y = self.pos[1]\n",
    "        x = clamp(x, XMIN, XMAX)\n",
    "        y = clamp(y, YMIN, YMAX)\n",
    "        self.pos[0] = x\n",
    "        self.pos[1] = y\n",
    "        \n",
    "        self.f.write(f\"G0 X{x} Y{y} F{feedrate}\\n\")\n",
    "        \n",
    "    def square_filled(self, xmin, ymin, xmax, ymax, dy=1):\n",
    "        self.move_to((xmin + xmax) / 2.0, (ymin + ymax) / 2.0)\n",
    "        print(f\"square filled centered on {(xmin + xmax) / 2.0} {(ymin + ymax) / 2.0}\")\n",
    "        self.square(xmin, ymin, xmax, ymax)\n",
    "        self.move_to(xmin, ymin)\n",
    "        \n",
    "        x = xmin\n",
    "        y = ymin\n",
    "        while y < ymax:\n",
    "            y += dy\n",
    "            self.move_to(x, y)\n",
    "            \n",
    "            if x == xmin:\n",
    "                x = xmax\n",
    "            else:\n",
    "                x = xmin\n",
    "                \n",
    "            self.move_to(x, y)\n",
    "        \n",
    "        self.move_to((xmin + xmax) / 2.0, (ymin + ymax) / 2.0)\n",
    "        \n",
    "    def square(self, xmin, ymin, xmax, ymax):\n",
    "        self.move_to(xmin, ymin)\n",
    "        self.pen_down()\n",
    "        self.move_to(xmax, ymin)\n",
    "        self.move_to(xmax, ymax)\n",
    "        self.move_to(xmin, ymax)\n",
    "        self.move_to(xmin, ymin)\n",
    "        self.pen_up()\n",
    "        \n",
    "    def move_to_mid_point(self, feedrate=None):\n",
    "        self.move_to(XMID, YMID, feedrate=feedrate)\n",
    "        \n",
    "    def go_to_starting_position(self):\n",
    "            self.f.write(f\"G0 X{self.start_pos[0]} Y{self.start_pos[1]} F{self.feedrate}\\n\")\n",
    "            \n",
    "    def flush(self):\n",
    "        self.f.flush()"
   ]
  },
  {
   "cell_type": "code",
   "execution_count": 49,
   "id": "04e5c928",
   "metadata": {},
   "outputs": [
    {
     "name": "stdout",
     "output_type": "stream",
     "text": [
      "square filled centered on 0.0 52.5\n",
      "square filled centered on -80.05027158115259 89.98258344414982\n",
      "square filled centered on -14.564686141009886 45.13050284922993\n",
      "square filled centered on -43.728568264401204 141.26682604980982\n",
      "square filled centered on 92.97978564095975 160.08116462425335\n",
      "square filled centered on 57.164890221963574 56.637064798637724\n",
      "square filled centered on -69.41800776197466 47.84672878663066\n",
      "square filled centered on -33.37453190947137 -80.33249651781775\n",
      "square filled centered on 89.49725260190635 107.85102478765143\n",
      "square filled centered on 23.151177988723532 190.66567902603975\n",
      "square filled centered on -60.92450183160461 100.70043566086022\n"
     ]
    }
   ],
   "source": [
    "gcode = GCODE(\"squares\", feedrate=1000)\n",
    "gcode.move_to_mid_point()\n",
    "\n",
    "square_size = 10\n",
    "\n",
    "x = XMID\n",
    "y = YMID\n",
    "\n",
    "gcode.square_filled(x - square_size, y - square_size, x + square_size, y + square_size)\n",
    "for _ in range(10):\n",
    "    square_size = uniform(5, 15)\n",
    "    \n",
    "    x = uniform(XMIN + square_size, XMAX - square_size)\n",
    "    y = uniform(YMIN - square_size, YMAX + square_size)\n",
    "    \n",
    "    gcode.square_filled(x - square_size, y - square_size, x + square_size, y + square_size)\n",
    "\n",
    "gcode.move_to_mid_point()\n",
    "gcode.go_to_starting_position()\n",
    "gcode.flush()"
   ]
  },
  {
   "cell_type": "code",
   "execution_count": 31,
   "id": "1bd40863",
   "metadata": {},
   "outputs": [],
   "source": [
    "gcode = GCODE(\"foobar\", feedrate=5000)\n",
    "\n",
    "gcode.move_to(0, 50)\n",
    "gcode.move_to(-50, 50)\n",
    "gcode.move_to(-50, 0)\n",
    "gcode.move_to(-50, -50)\n",
    "gcode.move_to(0, -50)\n",
    "gcode.move_to(50, -50)\n",
    "gcode.move_to(50, 0)\n",
    "gcode.move_to(50, 50)\n",
    "gcode.move_to(0, 50)\n",
    "\n",
    "gcode.go_to_starting_position()\n",
    "\n",
    "gcode.flush()"
   ]
  },
  {
   "cell_type": "code",
   "execution_count": 32,
   "id": "d7963912",
   "metadata": {},
   "outputs": [],
   "source": [
    "gcode = GCODE(\"random\", feedrate=1000)\n",
    "\n",
    "size = 5\n",
    "\n",
    "gcode.move_to(XMID, YMID, feedrate=5000)\n",
    "\n",
    "for _ in range(100):\n",
    "    gcode.step(\n",
    "        uniform(-size, size),\n",
    "        uniform(-size, size)\n",
    "    )\n",
    "\n",
    "gcode.go_to_starting_position()\n",
    "\n",
    "gcode.flush()"
   ]
  },
  {
   "cell_type": "code",
   "execution_count": 33,
   "id": "7ce98d7a",
   "metadata": {},
   "outputs": [],
   "source": [
    "size = 5\n",
    "radius = 0\n",
    "n_steps = 360 * 2\n",
    "angle = 0\n",
    "\n",
    "noise = 2\n",
    "\n",
    "gcode = GCODE(\"spiral2\", feedrate=1500)\n",
    "gcode.move_to(XMID, YMID, feedrate=5000)\n",
    "\n",
    "\n",
    "for _ in range(n_steps):\n",
    "    radius += XMAX / float(n_steps)\n",
    "    \n",
    "    gcode.move_to(\n",
    "        radius * math.sin(angle) + XMID + uniform(-noise, noise),\n",
    "        radius * math.cos(angle) + YMID + uniform(-noise, noise),\n",
    "    )\n",
    "    \n",
    "    angle += math.radians(1)\n",
    "\n",
    "gcode.go_to_starting_position()\n",
    "\n",
    "gcode.flush()"
   ]
  },
  {
   "cell_type": "code",
   "execution_count": null,
   "id": "aebbc51e",
   "metadata": {},
   "outputs": [],
   "source": []
  }
 ],
 "metadata": {
  "kernelspec": {
   "display_name": "Python 3 (ipykernel)",
   "language": "python",
   "name": "python3"
  },
  "language_info": {
   "codemirror_mode": {
    "name": "ipython",
    "version": 3
   },
   "file_extension": ".py",
   "mimetype": "text/x-python",
   "name": "python",
   "nbconvert_exporter": "python",
   "pygments_lexer": "ipython3",
   "version": "3.10.2"
  }
 },
 "nbformat": 4,
 "nbformat_minor": 5
}
