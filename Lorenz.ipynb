{
 "cells": [
  {
   "cell_type": "code",
   "execution_count": null,
   "id": "455c51cf",
   "metadata": {},
   "outputs": [],
   "source": [
    "from foobah.gcode import GCODE\n",
    "from foobah.utils import preview_png\n",
    "from foobah.methods import line_threshold\n",
    "from foobah import constants\n",
    "from foobah.constants import XMAX, XMIN, YMAX, YMIN\n",
    "\n",
    "import PIL\n",
    "import PIL.Image\n",
    "import PIL.ImageFilter\n",
    "\n",
    "import math\n",
    "import numpy as np\n",
    "\n",
    "import random\n",
    "from random import uniform\n",
    "from scipy.spatial import Delaunay, KDTree\n",
    "\n",
    "from collections import defaultdict\n",
    "from operator import itemgetter\n",
    "\n",
    "from IPython.display import display"
   ]
  },
  {
   "cell_type": "code",
   "execution_count": null,
   "id": "ba645209",
   "metadata": {},
   "outputs": [],
   "source": [
    "def lorenz(x, y, z, s=10, r=28, b=2.667):\n",
    "    x_dot = s*(y - x)\n",
    "    y_dot = r*x - y - x*z\n",
    "    z_dot = x*y - b*z\n",
    "    return x_dot, y_dot, z_dot\n",
    "\n",
    "\n",
    "dt = 0.006\n",
    "num_steps = 10000\n",
    "\n",
    "xs = np.empty(num_steps + 1)\n",
    "ys = np.empty(num_steps + 1)\n",
    "zs = np.empty(num_steps + 1)\n",
    "\n",
    "xs[0], ys[0], zs[0] = (0.1, 1.3, 1.05)\n",
    "\n",
    "\n",
    "for i in range(num_steps):\n",
    "    x_dot, y_dot, z_dot = lorenz(xs[i], ys[i], zs[i])\n",
    "    xs[i + 1] = xs[i] + (x_dot * dt)\n",
    "    ys[i + 1] = ys[i] + (y_dot * dt)\n",
    "    zs[i + 1] = zs[i] + (z_dot * dt)\n",
    "\n",
    "\n",
    "x_ = xs\n",
    "y_ = zs\n",
    "\n",
    "x_min = min(x_)\n",
    "x_max = max(x_)\n",
    "y_min = min(y_)\n",
    "y_max = max(y_)\n",
    "\n",
    "margin = 1.2\n",
    "x_margin = -(x_max - x_min) * (1.0 - margin)\n",
    "y_margin = -(y_max - y_min) * (1.0 - margin)\n",
    "\n",
    "x_min = x_min - x_margin\n",
    "y_min = y_min - y_margin\n",
    "x_max = x_max + x_margin\n",
    "y_max = y_max + y_margin\n",
    "\n",
    "points = list(zip(x_, y_))\n",
    "scale = (x_min, x_max, y_min, y_max)\n",
    "print(scale)"
   ]
  },
  {
   "cell_type": "code",
   "execution_count": null,
   "id": "bd9bdf0e",
   "metadata": {},
   "outputs": [],
   "source": [
    "basename = \"lorenz\"\n",
    "\n",
    "gcode = GCODE(basename, feedrate=3000, travel_feedrate=6000, scale=scale, max_line_length=5)\n",
    "gcode.move_to_starting_position()\n",
    "# gcode.draw_boundaries()\n",
    "\n",
    "gcode.pen_up()\n",
    "gcode.move_to_mid_point()\n",
    "gcode.travel_to(*points[0])\n",
    "\n",
    "for x, y in points:\n",
    "    gcode.line_to(x, y)\n",
    "\n",
    "gcode.pen_up()\n",
    "gcode.move_to_starting_position()\n",
    "gcode.flush()\n",
    "0"
   ]
  },
  {
   "cell_type": "code",
   "execution_count": null,
   "id": "f752378a",
   "metadata": {},
   "outputs": [],
   "source": [
    "preview_png(basename, scale=3)"
   ]
  }
 ],
 "metadata": {
  "kernelspec": {
   "display_name": "Python 3 (ipykernel)",
   "language": "python",
   "name": "python3"
  },
  "language_info": {
   "codemirror_mode": {
    "name": "ipython",
    "version": 3
   },
   "file_extension": ".py",
   "mimetype": "text/x-python",
   "name": "python",
   "nbconvert_exporter": "python",
   "pygments_lexer": "ipython3",
   "version": "3.10.2"
  }
 },
 "nbformat": 4,
 "nbformat_minor": 5
}
