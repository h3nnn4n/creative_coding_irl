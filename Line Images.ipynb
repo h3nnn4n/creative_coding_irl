{
 "cells": [
  {
   "cell_type": "code",
   "execution_count": null,
   "id": "fc0d61c0",
   "metadata": {},
   "outputs": [],
   "source": [
    "from foobah.gcode import GCODE\n",
    "from foobah.utils import preview_png\n",
    "from foobah.methods import line_threshold\n",
    "\n",
    "import PIL\n",
    "import PIL.Image\n",
    "import PIL.ImageFilter\n",
    "\n",
    "from IPython.display import display\n",
    "\n",
    "from random import uniform"
   ]
  },
  {
   "cell_type": "code",
   "execution_count": null,
   "id": "a877b9c6",
   "metadata": {},
   "outputs": [],
   "source": [
    "basename = \"foobar\"\n",
    "scale = 1\n",
    "image_name = \"images/david-bowie.jpg\"\n",
    "image = PIL.Image.open(image_name)\n",
    "\n",
    "image = image.resize((int(image.width / scale), int(image.height / scale)), PIL.Image.ANTIALIAS)\n",
    "# image = image.filter(PIL.ImageFilter.EDGE_ENHANCE_MORE)\n",
    "# image = image.filter(PIL.ImageFilter.SMOOTH_MORE)\n",
    "# image = image.filter(PIL.ImageFilter.CONTOUR)\n",
    "image = image.filter(PIL.ImageFilter.DETAIL)\n",
    "# image = image.filter(PIL.ImageFilter.EDGE_ENHANCE)\n",
    "# image = image.filter(PIL.ImageFilter.EDGE_ENHANCE_MORE)\n",
    "\n",
    "# image = image.rotate(-90, expand=True)\n",
    "#\n",
    "image = image.convert(\"RGB\")\n",
    "\n",
    "width = image.width\n",
    "height = image.height\n",
    "\n",
    "display(image)"
   ]
  },
  {
   "cell_type": "code",
   "execution_count": null,
   "id": "c0fffa51",
   "metadata": {},
   "outputs": [],
   "source": [
    "gcode = GCODE(basename, feedrate=3500)\n",
    "gcode.move_to_starting_position()\n",
    "gcode.draw_boundaries()\n",
    "gcode.pen_up()"
   ]
  },
  {
   "cell_type": "code",
   "execution_count": null,
   "id": "d6f18ee4",
   "metadata": {},
   "outputs": [],
   "source": [
    "line_threshold(image=image, gcode=gcode, threshold=0.91, angle=uniform(0, 180), step_size=1.5)\n",
    "line_threshold(image=image, gcode=gcode, threshold=0.85, angle=uniform(0, 180), step_size=2)\n",
    "line_threshold(image=image, gcode=gcode, threshold=0.70, angle=uniform(0, 180), step_size=3)\n",
    "line_threshold(image=image, gcode=gcode, threshold=0.60, angle=uniform(0, 180), step_size=3)\n",
    "line_threshold(image=image, gcode=gcode, threshold=0.50, angle=uniform(0, 180), step_size=4)\n",
    "line_threshold(image=image, gcode=gcode, threshold=0.35, angle=uniform(0, 180), step_size=5)\n",
    "\n",
    "# n_layers = 10\n",
    "# min_threshold = 0.3\n",
    "# max_threshold = 0.9\n",
    "# min_step_size = 17\n",
    "# max_step_size = 2\n",
    "\n",
    "# for i in range(n_layers):\n",
    "#     threshold = round(min_threshold + (i / (n_layers - 1)) * (max_threshold - min_threshold), 2)\n",
    "#     step_size = round(min_step_size + (i / (n_layers - 1)) * (max_step_size - min_step_size))\n",
    "#     print(i, threshold, step_size)\n",
    "#     line_threshold(image=image, gcode=gcode, threshold=threshold, angle=uniform(0, 180), step_size=step_size)"
   ]
  },
  {
   "cell_type": "code",
   "execution_count": null,
   "id": "02011479",
   "metadata": {},
   "outputs": [],
   "source": [
    "gcode.pen_up()\n",
    "gcode.move_to_starting_position()\n",
    "gcode.flush()"
   ]
  },
  {
   "cell_type": "code",
   "execution_count": null,
   "id": "e8c5adcc",
   "metadata": {},
   "outputs": [],
   "source": [
    "preview_png(basename, scale=4)"
   ]
  }
 ],
 "metadata": {
  "kernelspec": {
   "display_name": "Python 3 (ipykernel)",
   "language": "python",
   "name": "python3"
  },
  "language_info": {
   "codemirror_mode": {
    "name": "ipython",
    "version": 3
   },
   "file_extension": ".py",
   "mimetype": "text/x-python",
   "name": "python",
   "nbconvert_exporter": "python",
   "pygments_lexer": "ipython3",
   "version": "3.10.2"
  }
 },
 "nbformat": 4,
 "nbformat_minor": 5
}
