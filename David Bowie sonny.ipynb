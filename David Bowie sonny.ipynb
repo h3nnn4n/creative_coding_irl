{
 "cells": [
  {
   "cell_type": "code",
   "execution_count": null,
   "id": "d30b402b",
   "metadata": {},
   "outputs": [],
   "source": [
    "from foobah.gcode import GCODE\n",
    "from foobah.utils import preview_png\n",
    "from foobah.methods import line_threshold\n",
    "\n",
    "import PIL\n",
    "import PIL.Image\n",
    "import PIL.ImageFilter\n",
    "\n",
    "from IPython.display import display\n",
    "\n",
    "from random import uniform"
   ]
  },
  {
   "cell_type": "code",
   "execution_count": null,
   "id": "12423b4f",
   "metadata": {},
   "outputs": [],
   "source": [
    "basename = \"david_bowie\"\n",
    "scale = 1\n",
    "\n",
    "image_name = \"images/david-bowie.jpg\"\n",
    "image = PIL.Image.open(image_name)\n",
    "\n",
    "image = image.resize((int(image.width / scale), int(image.height / scale)), PIL.Image.ANTIALIAS)\n",
    "\n",
    "image = image.filter(PIL.ImageFilter.DETAIL)\n",
    "\n",
    "image = image.convert(\"RGB\")\n",
    "\n",
    "width = image.width\n",
    "height = image.height\n",
    "\n",
    "display(image)"
   ]
  },
  {
   "cell_type": "code",
   "execution_count": null,
   "id": "220ba79b",
   "metadata": {},
   "outputs": [],
   "source": [
    "gcode = GCODE(basename, feedrate=2000)\n",
    "gcode.move_to_starting_position()\n",
    "gcode.draw_boundaries()\n",
    "gcode.pen_up()"
   ]
  },
  {
   "cell_type": "code",
   "execution_count": null,
   "id": "4726c8f1",
   "metadata": {},
   "outputs": [],
   "source": [
    "line_threshold(image=image, gcode=gcode, threshold=0.9, angle=0, step_size=2)\n",
    "line_threshold(image=image, gcode=gcode, threshold=0.75, angle=45, step_size=3)\n",
    "line_threshold(image=image, gcode=gcode, threshold=0.5, angle=90, step_size=3)\n",
    "line_threshold(image=image, gcode=gcode, threshold=0.25, angle=135, step_size=4)"
   ]
  },
  {
   "cell_type": "code",
   "execution_count": null,
   "id": "297053bd",
   "metadata": {},
   "outputs": [],
   "source": [
    "gcode.pen_up()\n",
    "gcode.move_to_starting_position()\n",
    "gcode.flush()"
   ]
  },
  {
   "cell_type": "code",
   "execution_count": null,
   "id": "a2b1bf56",
   "metadata": {},
   "outputs": [],
   "source": [
    "preview_png(basename, scale=4)"
   ]
  }
 ],
 "metadata": {
  "kernelspec": {
   "display_name": "Python 3 (ipykernel)",
   "language": "python",
   "name": "python3"
  },
  "language_info": {
   "codemirror_mode": {
    "name": "ipython",
    "version": 3
   },
   "file_extension": ".py",
   "mimetype": "text/x-python",
   "name": "python",
   "nbconvert_exporter": "python",
   "pygments_lexer": "ipython3",
   "version": "3.10.0"
  }
 },
 "nbformat": 4,
 "nbformat_minor": 5
}
