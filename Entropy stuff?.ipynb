{
 "cells": [
  {
   "cell_type": "code",
   "execution_count": null,
   "id": "8de63309",
   "metadata": {},
   "outputs": [],
   "source": [
    "from foobah.gcode import GCODE\n",
    "from foobah.utils import preview_svg\n",
    "from foobah.methods import line_threshold\n",
    "from foobah import constants\n",
    "from foobah.constants import XMAX, XMIN, YMAX, YMIN\n",
    "\n",
    "import PIL\n",
    "import PIL.Image\n",
    "import PIL.ImageFilter\n",
    "\n",
    "import numpy as np\n",
    "\n",
    "from random import uniform\n",
    "\n",
    "from IPython.display import display"
   ]
  },
  {
   "cell_type": "code",
   "execution_count": null,
   "id": "6af47df3",
   "metadata": {},
   "outputs": [],
   "source": [
    "basename = \"foobar\"\n",
    "scale = 1\n",
    "image_name = \"images/square.png\"\n",
    "image_name = \"images/david-bowie.jpg\"\n",
    "image = PIL.Image.open(image_name)\n",
    "\n",
    "image = image.resize((int(image.width / scale), int(image.height / scale)), PIL.Image.ANTIALIAS)\n",
    "# image = image.filter(PIL.ImageFilter.EDGE_ENHANCE_MORE)\n",
    "# image = image.filter(PIL.ImageFilter.SMOOTH_MORE)\n",
    "# image = image.filter(PIL.ImageFilter.CONTOUR)\n",
    "# image = image.filter(PIL.ImageFilter.DETAIL)\n",
    "# image = image.filter(PIL.ImageFilter.EDGE_ENHANCE)\n",
    "# image = image.filter(PIL.ImageFilter.EDGE_ENHANCE_MORE)\n",
    "# image = image.filter(PIL.ImageFilter.SMOOTH_MORE)\n",
    "\n",
    "# image = image.rotate(-90, expand=True)\n",
    "\n",
    "image = image.convert(\"RGB\")\n",
    "\n",
    "width = image.width\n",
    "height = image.height\n",
    "\n",
    "display(image)"
   ]
  },
  {
   "cell_type": "code",
   "execution_count": null,
   "id": "6dcbd9a8",
   "metadata": {},
   "outputs": [],
   "source": [
    "gcode = GCODE(basename, feedrate=3500)\n",
    "gcode.move_to_starting_position()\n",
    "gcode.pen_down()\n",
    "gcode.draw_boundaries()\n",
    "gcode.pen_up()\n",
    "\n",
    "gcode.move_to_mid_point()\n",
    "gcode.pen_up()"
   ]
  },
  {
   "cell_type": "code",
   "execution_count": null,
   "id": "3ac090b5",
   "metadata": {},
   "outputs": [],
   "source": [
    "def random_vec():\n",
    "    return np.array((uniform(-1, 1), uniform(-1, 1)))\n",
    "                    \n",
    "\n",
    "def random_point():\n",
    "    step_size = 20.0\n",
    "    n_steps = 100\n",
    "    \n",
    "    position = np.array((uniform(0, image.width), uniform(0, image.height)))\n",
    "    last_position = position + random_vec()\n",
    "    \n",
    "    gcode.pen_up()\n",
    "    gcode.move_to(\n",
    "        ((position[0]) / image.width) * (XMAX - XMIN) + XMIN,\n",
    "        ((position[1]) / image.height) * (YMAX - YMIN) + YMIN,\n",
    "    )\n",
    "    gcode.pen_down()\n",
    "    \n",
    "    for _ in range(n_steps):\n",
    "        if position[0] < 0 or position[0] >= image.width or position[1] < 0 or position[1] >= image.height:\n",
    "            break\n",
    "            \n",
    "        r, g, b = image.getpixel((position[0], position[1]))\n",
    "        intensity = ((255 - r) + (255 - g) + (255 - b)) / (255 * 3.0)\n",
    "\n",
    "        step = (\n",
    "            (np.array(random_vec()) * intensity) + \n",
    "            (\n",
    "                (1.0 - intensity) * (position - last_position)\n",
    "            )\n",
    "        ) * step_size\n",
    "        \n",
    "        step = (\n",
    "            (random_vec()) * (intensity)\n",
    "        ) * step_size\n",
    "\n",
    "#         print(f\"{intensity:.4f} {step}\")\n",
    "        last_position = position.copy()\n",
    "        position += step\n",
    "        \n",
    "        gcode.move_to(\n",
    "            ((position[0]) / image.width) * (XMAX - XMIN) + XMIN,\n",
    "            ((position[1]) / image.height) * (YMAX - YMIN) + YMIN,\n",
    "        )\n",
    "\n",
    "    gcode.pen_up()"
   ]
  },
  {
   "cell_type": "code",
   "execution_count": null,
   "id": "495e1c83",
   "metadata": {},
   "outputs": [],
   "source": [
    "random_point()\n",
    "for _ in range(1000):\n",
    "    random_point()"
   ]
  },
  {
   "cell_type": "code",
   "execution_count": null,
   "id": "8a671ca6",
   "metadata": {},
   "outputs": [],
   "source": [
    "line_threshold(image, gcode, step_size=4)"
   ]
  },
  {
   "cell_type": "code",
   "execution_count": null,
   "id": "446d844f",
   "metadata": {},
   "outputs": [],
   "source": [
    "gcode.pen_up()\n",
    "gcode.move_to_starting_position()\n",
    "gcode.flush()"
   ]
  },
  {
   "cell_type": "code",
   "execution_count": null,
   "id": "a193c8a4",
   "metadata": {},
   "outputs": [],
   "source": [
    "preview_svg(basename)"
   ]
  }
 ],
 "metadata": {
  "kernelspec": {
   "display_name": "Python 3 (ipykernel)",
   "language": "python",
   "name": "python3"
  },
  "language_info": {
   "codemirror_mode": {
    "name": "ipython",
    "version": 3
   },
   "file_extension": ".py",
   "mimetype": "text/x-python",
   "name": "python",
   "nbconvert_exporter": "python",
   "pygments_lexer": "ipython3",
   "version": "3.10.0"
  }
 },
 "nbformat": 4,
 "nbformat_minor": 5
}
