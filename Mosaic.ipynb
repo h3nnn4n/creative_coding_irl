{
 "cells": [
  {
   "cell_type": "code",
   "execution_count": null,
   "id": "8de63309",
   "metadata": {},
   "outputs": [],
   "source": [
    "from foobah.gcode import GCODE\n",
    "from foobah.utils import preview_png\n",
    "from foobah.procedures import LineThreshold, Triangularizator, SquareWaver, TSPScribble\n",
    "\n",
    "import PIL\n",
    "import PIL.Image\n",
    "import PIL.ImageFilter\n",
    "\n",
    "from IPython.display import display\n",
    "\n",
    "from random import choice"
   ]
  },
  {
   "cell_type": "code",
   "execution_count": null,
   "id": "6af47df3",
   "metadata": {},
   "outputs": [],
   "source": [
    "basename = \"neo\"\n",
    "\n",
    "scale = 0.89\n",
    "# image_name = \"images/moonface.png\"\n",
    "# image_name = \"images/einstein.jpg\"\n",
    "# image_name = \"images/david-bowie.jpg\"\n",
    "# image_name  = \"images/scary_penguin.webp\"\n",
    "# image_name = \"images/portrait_1.jpg\"\n",
    "# image_name = \"images/simplex_noise_difference_clouds.png\"\n",
    "# image_name = \"images/dafoe.jpg\"\n",
    "image_name = \"images/neo.jpg\"\n",
    "image_name = \"images/neo_no_bg.jpg\"\n",
    "\n",
    "\n",
    "image = PIL.Image.open(image_name)\n",
    "\n",
    "image = image.resize((int(image.width / scale), int(image.height / scale)), PIL.Image.ANTIALIAS)\n",
    "# image = image.filter(PIL.ImageFilter.EDGE_ENHANCE_MORE)\n",
    "# image = image.filter(PIL.ImageFilter.SMOOTH_MORE)\n",
    "# image = image.filter(PIL.ImageFilter.CONTOUR)\n",
    "# image = image.filter(PIL.ImageFilter.DETAIL)\n",
    "# image = image.filter(PIL.ImageFilter.EDGE_ENHANCE)\n",
    "# image = image.filter(PIL.ImageFilter.EDGE_ENHANCE_MORE)\n",
    "# image = image.filter(PIL.ImageFilter.SMOOTH_MORE)\n",
    "\n",
    "# image = image.rotate(-90, expand=True)\n",
    "\n",
    "image = image.convert(\"RGB\")\n",
    "\n",
    "width = image.width\n",
    "height = image.height\n",
    "print(width, height)\n",
    "\n",
    "display(image)"
   ]
  },
  {
   "cell_type": "code",
   "execution_count": null,
   "id": "6dcbd9a8",
   "metadata": {},
   "outputs": [],
   "source": [
    "gcode = GCODE(basename, feedrate=1500, scale=(0, image.width, 0, image.height))\n",
    "gcode.draw_boundaries()"
   ]
  },
  {
   "cell_type": "code",
   "execution_count": null,
   "id": "0edcdfb8",
   "metadata": {},
   "outputs": [],
   "source": [
    "pens = [\n",
    "#     LineThreshold(image=image, gcode=gcode, angle=0, threshold=0.8, step_size=2),\n",
    "    LineThreshold(image=image, gcode=gcode, angle=45, threshold=0.8, step_size=1.5),\n",
    "#     LineThreshold(image=image, gcode=gcode, angle=90, threshold=0.8, step_size=2),\n",
    "#     LineThreshold(image=image, gcode=gcode, angle=135, threshold=0.8, step_size=1.5),\n",
    "    \n",
    "#     Triangularizator(image=image, gcode=gcode, step_size=4, pow_exp=4, noise=0.75),\n",
    "    \n",
    "#     SquareWaver(image=image, gcode=gcode, step_size=4, gamma_ish=1.0, intensity_threshold=0.25, min_dy=1),\n",
    "    TSPScribble(image=image, gcode=gcode),\n",
    "]"
   ]
  },
  {
   "cell_type": "code",
   "execution_count": null,
   "id": "5e3e1f06",
   "metadata": {},
   "outputs": [],
   "source": [
    "pens[-1].paint(bounds=(200, 200, 250, 250))"
   ]
  },
  {
   "cell_type": "code",
   "execution_count": null,
   "id": "66640760",
   "metadata": {},
   "outputs": [],
   "source": [
    "grid_size = 30\n",
    "\n",
    "for y in range(0, image.height, grid_size):\n",
    "    for x in range(0, image.width, grid_size):\n",
    "        break\n",
    "#         print(x, y)\n",
    "#         if image.width - x < grid_size: continue\n",
    "#         if image.height - y < grid_size: continue\n",
    "            \n",
    "        pen = choice(pens)\n",
    "        pen.paint(bounds=(x, y, x + grid_size, y + grid_size))\n",
    "#         gcode.square(x, y, x + grid_size, y + grid_size)"
   ]
  },
  {
   "cell_type": "code",
   "execution_count": null,
   "id": "446d844f",
   "metadata": {},
   "outputs": [],
   "source": [
    "gcode.pen_up()\n",
    "gcode.flush()"
   ]
  },
  {
   "cell_type": "code",
   "execution_count": null,
   "id": "4f997e14",
   "metadata": {},
   "outputs": [],
   "source": [
    "preview_png(basename, scale=3)"
   ]
  },
  {
   "cell_type": "code",
   "execution_count": null,
   "id": "29bc8c2b",
   "metadata": {},
   "outputs": [],
   "source": []
  }
 ],
 "metadata": {
  "kernelspec": {
   "display_name": "Python 3 (ipykernel)",
   "language": "python",
   "name": "python3"
  },
  "language_info": {
   "codemirror_mode": {
    "name": "ipython",
    "version": 3
   },
   "file_extension": ".py",
   "mimetype": "text/x-python",
   "name": "python",
   "nbconvert_exporter": "python",
   "pygments_lexer": "ipython3",
   "version": "3.10.0"
  }
 },
 "nbformat": 4,
 "nbformat_minor": 5
}
